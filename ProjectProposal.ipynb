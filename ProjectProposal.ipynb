{
 "cells": [
  {
   "cell_type": "markdown",
   "metadata": {},
   "source": [
    "# COGS 108 - Project Proposal"
   ]
  },
  {
   "cell_type": "markdown",
   "metadata": {},
   "source": [
    "## Important\n",
    "\n",
    "- Make sure all group members (3-6 people) are listed in the group members section.\n",
    "- ONE, and only one, member of your group should upload this notebook to TritonED. \n",
    "- Each member of the group will receive the same grade on this assignment. \n",
    "- Keep the file name the same: submit the file 'ProjectProposal.ipynb'"
   ]
  },
  {
   "cell_type": "markdown",
   "metadata": {},
   "source": [
    "## Overview"
   ]
  },
  {
   "cell_type": "markdown",
   "metadata": {},
   "source": [
    "Read the project description and detailed instructions for this assignment in the 'ProjectOutline' document."
   ]
  },
  {
   "cell_type": "markdown",
   "metadata": {},
   "source": [
    "## Group Members: Fill in the Student IDs of each group member here\n",
    "\n",
    "Replace the lines below to list each persons full student ID. Add lines as needed for your group size, and make sure each ID is listed on a separate line. \n",
    "\n",
    "Phillip Lagoc - A13469618\n",
    "- A########\n",
    "- A########"
   ]
  },
  {
   "cell_type": "markdown",
   "metadata": {},
   "source": [
    "### Research Question\n",
    "\n"
   ]
  },
  {
   "cell_type": "markdown",
   "metadata": {},
   "source": [
    "**What factors affect video game sales?**\n",
    "- Does Mario in a video game title for a specific genre affect game sales? (or any other popular video game character)\n",
    "- Trends in Videogames\n",
    "    - Does Japan like racing games more?\n",
    "    - How do tastes in videogames differ by regions around the world? (in this case, the regions outlined in the dataset)\n",
    "- Is there a relationship between game console and genre?\n",
    "    - Wii is more popular at around 2007 --> sports games are also more popular? \n"
   ]
  },
  {
   "cell_type": "markdown",
   "metadata": {},
   "source": [
    "### Hypothesis\n",
    "\n",
    "- A genre will remain popular for x amount of years in region y.\n",
    "    - A genre will remain popular for 5 years in the US.\n",
    "- The company producing the game also affects video game sales.\n",
    "- We believe that the console itself is the most impactful when it comes to video game sales, while year is not as impactful."
   ]
  },
  {
   "cell_type": "markdown",
   "metadata": {},
   "source": [
    "### Dataset(s)\n",
    "\n",
    "What data will you use to answer your question? Describe the dataset(s) in terms of number of observations, what kind of features it contains, etc. You must use at least one dataset containing at least approximately 1000 observations (if your data are smaller but you feel they are sufficient, email Prof. Voytek). You are welcome (and in fact recommended) to find multiple datasets! If you do so, describe each one, and briefly explain how you will combine them together. "
   ]
  },
  {
   "cell_type": "markdown",
   "metadata": {},
   "source": [
    "**Dataset Name**: Video Games Global Sales in Volume (1983-2017)\n",
    "\n",
    "**Link to the dataset**: https://data.world/julienf/video-games-global-sales-in-volume-1983-2017?fbclid=IwAR18_2AyiXiQaWnorrZrpchdUcG3L5gNWcyUeZyUTHwR4gST-0O1PG58ISg\n",
    "\n",
    "**Number of observations**: 16,598\n",
    "\n",
    "Data set containing sales of yearly console video games from 1983 to 2017, showing features such as title, genre, regional sales, global sales, and platform.\n",
    "\n",
    "*Do we plan to add more onto this sale via our own webscraping?*"
   ]
  },
  {
   "cell_type": "markdown",
   "metadata": {},
   "source": [
    "### Background and Prior Work\n",
    "\n",
    "Why is this question of interest, what background information led you to your hypothesis, and why is this important?\n",
    "\n",
    "Find some relevant prior work, and reference those sources. Even if you think you have a totally novel question, find the most similar prior work that you can and discuss how it relates to your project. \n",
    "\n",
    "References can be research publications, but they need not be. Blogs, github repositories, company websites, etc., are all viable references if they are relevant to your project.\n",
    "\n",
    "(2-3 paragraphs, including at least 2 references)"
   ]
  },
  {
   "cell_type": "markdown",
   "metadata": {},
   "source": [
    "*Fill in your background and prior work here* \n",
    "\n",
    "References (include links):\n",
    "- 1)\n",
    "- 2)"
   ]
  },
  {
   "cell_type": "markdown",
   "metadata": {},
   "source": [
    "### Proposed Methods\n",
    "\n",
    "What methods will you use to analyze your data?\n",
    "\n",
    "- How 'clean' is the data? To the extent that it requires cleaning, how will you do so?\n",
    "- How will you analyze the data? Be as specific as you can. Briefly mention any pre-processing steps that are required for your methods (for example, checking data distributions and performing any transformations that may be required). Include a brief outline of how you will apply your chosen method(s). \n",
    "- What do you plan to report? Briefly mention any key visualizations you plan to create, and/or the kind of results you will be able to report that address your question (this could be, for example, the outcome of some statistical test(s), prediction error on a model, a model fit parameter, etc.).\n",
    "- Include a list of packages you expect to use for you project. If you plan to use packages we have not used in class, add a very brief description about them (a few words is sufficient). "
   ]
  },
  {
   "cell_type": "markdown",
   "metadata": {},
   "source": [
    "*Fill in your proposed methods information here:*\n",
    "\n",
    "*Data Cleaning (2-3 sentences)*\n",
    "\n",
    "There are several missing values throughout the data set, so we would have to decide on how to approach this.\n",
    "There may also be some skewedness when analyzing the different video game sales throughout the different regions, as it seems that there are more sales in the US than in any other region upon first glance. \n",
    "Also, the sales are the cumulative sales over the 1983-2017 period. Creating separate columns that look at the yearly sales of each game throughout this period can be helpful to us in answering our questions.\n",
    "\n",
    "*Data Analysis (1-2 paragraphs)*\n",
    "\n",
    "*What to report (2-3 sentences)*\n",
    "\n",
    "We will report...\n",
    "\n",
    "Packages we plan to use:\n",
    "- pandas: To read the data set into a dataframe and perform preprocessing steps.\n",
    "- numpy: Added support for mathematical functions and array/ matrix operations.\n",
    "- matplotlib: To visualize the data.\n",
    "- seaborn: Also for visualizing data.\n",
    "- statsmodels: For statistical analysis.\n",
    "- scikit-learn: To create predictive models from the data and for statistical analysis."
   ]
  },
  {
   "cell_type": "markdown",
   "metadata": {},
   "source": [
    "### Ethics and Privacy\n",
    "\n",
    "Briefly acknowledge and address any potential issues of ethics and privacy for the proposed project. In particular:\n",
    "- Do you have permission to use this data, for this purpose?\n",
    "- Are there privacy concerns regarding your datasets that you need to deal with, and/or terms of use that you need to comply with?\n",
    "- Are there potential biases in your dataset(s), in terms of who it composes, and how it was collected, that may be problematic in terms of it allowing for equitable analysis? (For example, does your data exclude particular populations, or is it likely to reflect particular human biases in a way that could be a problem?) \n",
    "- Are there any other issues related to your topic area, data, and/or analyses that are potentially problematic in terms of data privacy and equitable impact?\n",
    "- How will you handle any issues you identify?\n",
    "\n",
    "(1-2 paragraphs)"
   ]
  },
  {
   "cell_type": "markdown",
   "metadata": {},
   "source": [
    "### Discussion\n",
    "\n",
    "Discuss your project, looking forward to what your results might mean, how they fit it in with what is already known, and what problems you may encounter. \n",
    "\n",
    "In particular:\n",
    "- If your analyses and hypotheses are correct, what will be the contribution of this project to the topic domain? \n",
    "- Alternatively, what will you do if you methods don't work and/or your hypotheses are wrong? \n",
    "- What are the potential pitfalls and potential confounds of your data and/or methods that may cause problems, and/or influence your interpretations?\n",
    "\n",
    "(2-3 paragraphs)"
   ]
  },
  {
   "cell_type": "markdown",
   "metadata": {},
   "source": [
    "The topic domain of our project concerns the sales of video games over a period of time. Though on the surface it seems like we are doing an analysis of sales, we believe, however, that this provides greater insight into not only the video game industry, but people's tastes and preferences when it comes to electronic entertainment. \n",
    "Through doing our project on video game sales, we are analyzing regional preferences, which is an interesting field to explore. We can see how these different tastes vary not only through space (ie. region by region), but through time as well. Examining these patterns can provide more insight into the what consumers want, and through this information, companies can create better products that not only capture the most popular video game trends at the moment, but revolutionize electronic entertainment as a whole. \n",
    "\n",
    "If our analyses hypotheses on which factors most strongly influence video game sales are correct, then we believe this will show that companies should focus more on developing certain genres on certain consoles. This has the potential to cause a shift in what is being developed where, leading to whole new gaming trends. \n",
    "If they are wrong, or our proposed methods are unable to arrive at valid conclusions, then we will change our current methods, as well as the questions that we are asking. For instance, our questions may be too broad, thus making analysis difficult. To counter this, we will need to be more detailed with our questions. If our methods fail, then this calls for visiting more sources and researching other methods that we can use.\n",
    "\n",
    "Potential pitfalls and confounds of our data and methods that can cause problems includes how limited we are in terms of the types of statistical tools we can use to analyze our data. Of course, we will learn plenty throughout this course, but there may be other, more advanced methods that we can potentially utilize for our project, but will not be taught in the course.\n",
    "Other pitfalls include how this dataset was scraped from only one website. Records of video game sales can vary from site to site, especially when recording the sales of lesser-known video games. This can lead us to believing that certain games are less popular than others, when in fact they are just incorrectly documented. \n"
   ]
  }
 ],
 "metadata": {
  "kernelspec": {
   "display_name": "Python 3",
   "language": "python",
   "name": "python3"
  },
  "language_info": {
   "codemirror_mode": {
    "name": "ipython",
    "version": 3
   },
   "file_extension": ".py",
   "mimetype": "text/x-python",
   "name": "python",
   "nbconvert_exporter": "python",
   "pygments_lexer": "ipython3",
   "version": "3.7.1"
  }
 },
 "nbformat": 4,
 "nbformat_minor": 2
}
