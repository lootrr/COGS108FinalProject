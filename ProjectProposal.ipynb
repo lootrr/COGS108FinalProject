{
 "cells": [
  {
   "cell_type": "markdown",
   "metadata": {},
   "source": [
    "# COGS 108 - Project Proposal"
   ]
  },
  {
   "cell_type": "markdown",
   "metadata": {},
   "source": [
    "## Important\n",
    "\n",
    "- Make sure all group members (3-6 people) are listed in the group members section.\n",
    "- ONE, and only one, member of your group should upload this notebook to TritonED. \n",
    "- Each member of the group will receive the same grade on this assignment. \n",
    "- Keep the file name the same: submit the file 'ProjectProposal.ipynb'"
   ]
  },
  {
   "cell_type": "markdown",
   "metadata": {},
   "source": [
    "## Overview"
   ]
  },
  {
   "cell_type": "markdown",
   "metadata": {},
   "source": [
    "Read the project description and detailed instructions for this assignment in the 'ProjectOutline' document."
   ]
  },
  {
   "cell_type": "markdown",
   "metadata": {},
   "source": [
    "## Group Members: Fill in the Student IDs of each group member here\n",
    "\n",
    "Replace the lines below to list each persons full student ID. Add lines as needed for your group size, and make sure each ID is listed on a separate line. \n",
    "\n",
    "Phillip Lagoc - A13469618\n",
    "\n",
    "Helen Cheng - A12368662\n",
    "\n",
    "Michelle Kao - A13365518"
   ]
  },
  {
   "cell_type": "markdown",
   "metadata": {},
   "source": [
    "### Research Question\n",
    "\n"
   ]
  },
  {
   "cell_type": "markdown",
   "metadata": {},
   "source": [
    "What factors affect video game sales?\n"
   ]
  },
  {
   "cell_type": "markdown",
   "metadata": {},
   "source": [
    "### Hypothesis\n",
    "\n",
    "We believe the console itself has the most impact on video game sales, while year is the least impactful."
   ]
  },
  {
   "cell_type": "markdown",
   "metadata": {},
   "source": [
    "### Dataset(s)\n",
    "\n",
    "What data will you use to answer your question? Describe the dataset(s) in terms of number of observations, what kind of features it contains, etc. You must use at least one dataset containing at least approximately 1000 observations (if your data are smaller but you feel they are sufficient, email Prof. Voytek). You are welcome (and in fact recommended) to find multiple datasets! If you do so, describe each one, and briefly explain how you will combine them together. "
   ]
  },
  {
   "cell_type": "markdown",
   "metadata": {},
   "source": [
    "**Dataset Name**: Video Games Global Sales in Volume (1983-2017)\n",
    "\n",
    "**Link to the dataset**:\n",
    "https://data.world/julienf/video-games-global-sales-in-volume-1983-2017?fbclid=IwAR18_2AyiXiQaWnorrZrpchdUcG3L5gNWcyUeZyUTHwR4gST-0O1PG58ISg\n",
    "\n",
    "**Number of observations**: 16,598\n",
    "\n",
    "Data set containing sales of yearly console video games from 1983 to 2017, showing features such as title, genre, regional sales, global sales, and platform."
   ]
  },
  {
   "cell_type": "markdown",
   "metadata": {},
   "source": [
    "### Background and Prior Work\n",
    "\n",
    "Why is this question of interest, what background information led you to your hypothesis, and why is this important?\n",
    "\n",
    "Find some relevant prior work, and reference those sources. Even if you think you have a totally novel question, find the most similar prior work that you can and discuss how it relates to your project. \n",
    "\n",
    "References can be research publications, but they need not be. Blogs, github repositories, company websites, etc., are all viable references if they are relevant to your project.\n",
    "\n",
    "(2-3 paragraphs, including at least 2 references)"
   ]
  },
  {
   "cell_type": "markdown",
   "metadata": {},
   "source": [
    "Our team loves video games, which is becoming an increasingly popular and powerful industry despite being fairly new. For example, Pong, one of the first video games to exist, came out in 1972. Less than 50 years later, the industry has exploded and become culturally relevant and financially lucrative (both understatements). From a fan point of view, we've all heard discussions about buying the latest console or the next popular game, which often leads to comparisons. What console should you buy when two of your favorite games might be limited to separate consoles? Do parents understand the increasing cultural relevance of video games, and what games would they let their children play? In addition to these questions, a business point of view may want to see how these factors affect the bottom line, which will in turn change their business tactics.\n",
    "\n",
    "The console question in particular stems from a cultural phenomenon often referred to as the \"console wars.\" Although it has many definitions, to us this is a polarizing discussion that encourages consumers to establish their identity by buying a certain console. For example, in the Nielsen study, many consumers remain loyal to a certain console brand, continuing to buy generation iterations because they identify with the “Fun-Factor” or “Better for Kids” values of a Nintendo system. Our hypothesis comes from this idea, which is that sales are greatly affected by these console-identity purchases. Although we are limited because such data does not exist, we would like to draw (limited) conclusions based on the (purely correlated) findings of this research question. On the other hand, the industry has grown tremendously throughout the years but sales are affected by specific factors, such as lack of interest or the start of a popular franchise. There are growth periods in any business, such as the commonly referred to “decade of marked innovation in video games” in the 90s (see Wiki reference). Therefore, industry / sales growth is non-linear over the years and would be least likely to impact video game sales. It would be better to identify what factors specifically affected sales during certain periods to understand why sales had changed.\n",
    "\n",
    "In general, we're pursuing this research question to find trends and therefore possibly predict where the industry might be heading. Apart from appeasing our fan curiosity, this could be helpful data to aforementioned businesses to optimize their tactics. Although this data would be more useful for businesses, the common consumer will have access to this data as well and can react accordingly with their dollar. For example, if we discover that the game title itself most affects sales and not the consoles, a consumer could choose to share a console with friends to eliminate the cost of multiple consoles but still enjoy the game. Or perhaps a solo video game developer can see what genres affects sales the most - then he can pursue his dream to develop games but still make a living by selling a game in a popular genre.\n",
    "\n",
    "References (include links):\n",
    "- 1) https://www.nielsen.com/us/en/insights/news/2015/no-stranger-to-the-video-game-most-eighth-generation-gamers-have-previously-owned-consoles.html\n",
    "- 2) https://en.wikipedia.org/wiki/1990s_in_video_gaming"
   ]
  },
  {
   "cell_type": "markdown",
   "metadata": {},
   "source": [
    "### Proposed Methods\n",
    "\n",
    "What methods will you use to analyze your data?\n",
    "\n",
    "- How 'clean' is the data? To the extent that it requires cleaning, how will you do so?\n",
    "- How will you analyze the data? Be as specific as you can. Briefly mention any pre-processing steps that are required for your methods (for example, checking data distributions and performing any transformations that may be required). Include a brief outline of how you will apply your chosen method(s). \n",
    "- What do you plan to report? Briefly mention any key visualizations you plan to create, and/or the kind of results you will be able to report that address your question (this could be, for example, the outcome of some statistical test(s), prediction error on a model, a model fit parameter, etc.).\n",
    "- Include a list of packages you expect to use for you project. If you plan to use packages we have not used in class, add a very brief description about them (a few words is sufficient). "
   ]
  },
  {
   "cell_type": "markdown",
   "metadata": {},
   "source": [
    "*Fill in your proposed methods information here:*\n",
    "\n",
    "*Data Cleaning (2-3 sentences)*\n",
    "\n",
    "There are several missing values throughout the data set, so we would have to decide on how to approach this. Given that these missing values comprise less than 1% of the entire data set, we have decided that it would be best to delete the rows that contain these missing values.\n",
    "\n",
    "There may also be some skewedness when analyzing the different video game sales throughout the different regions, as it seems that there are more sales in the US than in any other region upon first glance. \n",
    "Also, the sales are the cumulative sales over the 1983-2017 period. Creating separate columns that look at the yearly sales of each game throughout this period can be helpful to us in answering our questions.\n",
    "\n",
    "*Data Analysis (1-2 paragraphs)*\n",
    "\n",
    "To pre-process the data, we will check our data distributions to see if they are skewed, in which case we’ll need to create lognormal distributions by multiplying the data by log. That way, our distributions are more readable. Most of our analysis will be seeing which factors are the most correlated by comparing r-values between sales and a variable factor. An example would be running a Pearson correlation between genre and sales, where we total all sales for a particular genre and compare it to the number of games in that genre. \n",
    "\n",
    "We may also use regression methods in order to predict what type of combination of factors will generate the most sales by region. For example, we can use the simple regression method for genre and sales to predict which genre will generate more sales in the future. When we want to compare more than one independent variable (e.g. genre AND console vs. sales), we will use the multiple regression method. However, it’s important not to mistake a combination of the highest performing factors as the winning sales formula - some things may not be compatible, such as a Mario game on a Xbox console (strongly protected intellectual property from different companies). Therefore, we must sift through the data to exclude (presumably) impossible combinations, though that may be a fun but impractical practice.\n",
    "\n",
    "*What to report (2-3 sentences)*\n",
    "\n",
    "In the end, we will report the p-values of each factor on the game sales after using linear regression. \n",
    "Since some of the factors are categorical and the dependent variable is continuous, reporting the results of an ANOVA test may be heplful as well. Creating different graphs for the different levels of each of the categorical variables on the sales will also be helpful to visualize what impacts video game sales.  \n",
    "\n",
    "Packages we plan to use:\n",
    "- pandas: To read the data set into a dataframe and perform preprocessing steps.\n",
    "- numpy: Added support for mathematical functions and array/ matrix operations.\n",
    "- matplotlib: To visualize the data.\n",
    "- seaborn: Also for visualizing data.\n",
    "- statsmodels: For statistical analysis.\n",
    "- scikit-learn: To create predictive models from the data and for statistical analysis."
   ]
  },
  {
   "cell_type": "markdown",
   "metadata": {},
   "source": [
    "### Ethics and Privacy\n",
    "\n",
    "Briefly acknowledge and address any potential issues of ethics and privacy for the proposed project. In particular:\n",
    "- Do you have permission to use this data, for this purpose?\n",
    "- Are there privacy concerns regarding your datasets that you need to deal with, and/or terms of use that you need to comply with?\n",
    "- Are there potential biases in your dataset(s), in terms of who it composes, and how it was collected, that may be problematic in terms of it allowing for equitable analysis? (For example, does your data exclude particular populations, or is it likely to reflect particular human biases in a way that could be a problem?) \n",
    "- Are there any other issues related to your topic area, data, and/or analyses that are potentially problematic in terms of data privacy and equitable impact?\n",
    "- How will you handle any issues you identify?\n",
    "\n",
    "(1-2 paragraphs)\n",
    "\n",
    "The dataset we chose is publicly available to all members of the site, which means it is open to use for personal projects. Additionally, since it was generated from web scraping www.vgchartz.com, which is publicly available information, there are no privacy concerns, nor is there any personal identifiable information available. This site estimates sales through a variety of methods, including polling users on games purchased, polling retailers on sales numbers, and asking manufacturers for production estimates. This method of data collection introduces potential biases from the polling processes, which may also reflect why the dataset only includes the regions NA, EU, JP, and other. While these are common region groupings in video games, it does not provide information about trends within each region. This may be significant, especially in the EU group, due to how many countries are encompassed, and how political and economic climates in a given region may affect sales in that time frame. These issues with how the data was collected will likely appear in any publically available dataset, and short of collecting our own data from retailers and manufacturers, it just will have to be something we take into consideration when interpreting the results."
   ]
  },
  {
   "cell_type": "markdown",
   "metadata": {},
   "source": [
    "### Discussion\n",
    "\n",
    "Discuss your project, looking forward to what your results might mean, how they fit it in with what is already known, and what problems you may encounter. \n",
    "\n",
    "In particular:\n",
    "- If your analyses and hypotheses are correct, what will be the contribution of this project to the topic domain? \n",
    "- Alternatively, what will you do if you methods don't work and/or your hypotheses are wrong? \n",
    "- What are the potential pitfalls and potential confounds of your data and/or methods that may cause problems, and/or influence your interpretations?\n",
    "\n",
    "(2-3 paragraphs)"
   ]
  },
  {
   "cell_type": "markdown",
   "metadata": {},
   "source": [
    "The topic domain of our project concerns the sales of video games over a period of time. Though on the surface it seems like we are doing an analysis of sales, we believe, however, that this provides greater insight into not only the video game industry, but people's tastes and preferences when it comes to electronic entertainment. \n",
    "Through doing our project on video game sales, we are analyzing regional preferences, which is an interesting field to explore. We can see how these different tastes vary not only through space (ie. region by region), but through time as well. Examining these patterns can provide more insight into the what consumers want, and through this information, companies can create better products that not only capture the most popular video game trends at the moment, but revolutionize electronic entertainment as a whole. \n",
    "\n",
    "If our analyses hypotheses on which factors most strongly influence video game sales are correct, then we believe this will show that companies should focus more on developing certain genres on certain consoles. This has the potential to cause a shift in what is being developed where, leading to whole new gaming trends. \n",
    "If they are wrong, or our proposed methods are unable to arrive at valid conclusions, then we will change our current methods, as well as the questions that we are asking. For instance, our questions may be too broad, thus making analysis difficult. To counter this, we will need to be more detailed with our questions. If our methods fail, then this calls for visiting more sources and researching other methods that we can use.\n",
    "\n",
    "Potential pitfalls and confounds of our data and methods that can cause problems includes how limited we are in terms of the types of statistical tools we can use to analyze our data. Of course, we will learn plenty throughout this course, but there may be other, more advanced methods that we can potentially utilize for our project, but will not be taught in the course.\n",
    "Other pitfalls include how this dataset was scraped from only one website. Records of video game sales can vary from site to site, especially when recording the sales of lesser-known video games. This can lead us to believing that certain games are less popular than others, when in fact they are just incorrectly documented. \n"
   ]
  }
 ],
 "metadata": {
  "kernelspec": {
   "display_name": "Python 3",
   "language": "python",
   "name": "python3"
  },
  "language_info": {
   "codemirror_mode": {
    "name": "ipython",
    "version": 3
   },
   "file_extension": ".py",
   "mimetype": "text/x-python",
   "name": "python",
   "nbconvert_exporter": "python",
   "pygments_lexer": "ipython3",
   "version": "3.7.1"
  }
 },
 "nbformat": 4,
 "nbformat_minor": 2
}
